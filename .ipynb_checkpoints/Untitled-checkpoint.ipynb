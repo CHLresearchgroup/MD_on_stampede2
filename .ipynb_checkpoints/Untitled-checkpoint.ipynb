{
 "cells": [
  {
   "cell_type": "code",
   "execution_count": null,
   "metadata": {},
   "outputs": [],
   "source": []
  },
  {
   "cell_type": "markdown",
   "metadata": {},
   "source": [
    "# General"
   ]
  },
  {
   "cell_type": "markdown",
   "metadata": {},
   "source": [
    "[Stampede2 User Guide](https://portal.tacc.utexas.edu/user-guides/stampede2;jsessionid=EA7AEBFCB6BE63C6EB173C9E02E3DDE2)\n",
    "\n",
    "- **Notes**\n",
    "    - Pay special attention to the [File Systems section](https://portal.tacc.utexas.edu/user-guides/stampede2;jsessionid=EA7AEBFCB6BE63C6EB173C9E02E3DDE2#overview-filesystems)\n",
    "        - The file system that is used to run jobs is not backed up and files on it are subject to being purged after a short time\n",
    "    - Do not run jobs on the login nodes (what you access with ssh)- submit a jobn to have it run on a compute node (more on this in the user guide)\n",
    "    - \n",
    "    "
   ]
  },
  {
   "cell_type": "markdown",
   "metadata": {},
   "source": [
    "# Example scripts\n",
    "- basic MD run"
   ]
  },
  {
   "cell_type": "markdown",
   "metadata": {},
   "source": [
    "# long runs (of a single trajectory)\n",
    "- Scaling tests\n",
    "- Splitting long MD jobs into shoter runs\n",
    "- Dependencies\n",
    "- My script for submitting multiple dependencies at once\n"
   ]
  },
  {
   "cell_type": "markdown",
   "metadata": {},
   "source": [
    "# Launcher (for many separate, small jobs)"
   ]
  }
 ],
 "metadata": {
  "kernelspec": {
   "display_name": "Python 3",
   "language": "python",
   "name": "python3"
  },
  "language_info": {
   "codemirror_mode": {
    "name": "ipython",
    "version": 3
   },
   "file_extension": ".py",
   "mimetype": "text/x-python",
   "name": "python",
   "nbconvert_exporter": "python",
   "pygments_lexer": "ipython3",
   "version": "3.6.8"
  }
 },
 "nbformat": 4,
 "nbformat_minor": 2
}
